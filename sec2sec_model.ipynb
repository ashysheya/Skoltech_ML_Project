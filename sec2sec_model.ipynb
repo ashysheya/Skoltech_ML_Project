{
 "cells": [
  {
   "cell_type": "code",
   "execution_count": 1,
   "metadata": {},
   "outputs": [
    {
     "name": "stderr",
     "output_type": "stream",
     "text": [
      "/home/sasha/anaconda3/lib/python3.6/site-packages/h5py/__init__.py:34: FutureWarning: Conversion of the second argument of issubdtype from `float` to `np.floating` is deprecated. In future, it will be treated as `np.float64 == np.dtype(float).type`.\n",
      "  from ._conv import register_converters as _register_converters\n",
      "Using TensorFlow backend.\n"
     ]
    }
   ],
   "source": [
    "import numpy as np\n",
    "from collections import defaultdict\n",
    "from sklearn.model_selection import train_test_split\n",
    "from vocabulary import Vocabulary\n",
    "import tensorflow as tf\n",
    "import os\n",
    "os.environ[\"KERAS_BACKEND\"] = \"tensorflow\"\n",
    "import editdistance\n",
    "from attention_model import *\n",
    "import random\n",
    "import utils\n",
    "from IPython.display import clear_output\n",
    "from tqdm import tqdm,trange\n",
    "import matplotlib.pyplot as plt\n",
    "%matplotlib inline\n",
    "import collections"
   ]
  },
  {
   "cell_type": "code",
   "execution_count": 2,
   "metadata": {
    "collapsed": true
   },
   "outputs": [],
   "source": [
    "def prepare_dictionary():\n",
    "    dataset = utils.dataset_reader(use_w2v=True)\n",
    "    tags = utils.read_tags('tags')\n",
    "    inp_voc = Vocabulary.from_lines(dataset['train'][0] + dataset['test'][0] + dataset['val'][0], use_w2v=True, \n",
    "                                    unk='__unknown__')\n",
    "    out_voc = Vocabulary(['__begin__', '__end__'] + tags, unk=None, use_w2v=False)\n",
    "    none_idx = out_voc.token_to_idx['none']\n",
    "    return dataset, tags, inp_voc, out_voc, none_idx"
   ]
  },
  {
   "cell_type": "code",
   "execution_count": 3,
   "metadata": {
    "collapsed": true
   },
   "outputs": [],
   "source": [
    "dataset, tags, inp_voc, out_voc, none_idx = prepare_dictionary()"
   ]
  },
  {
   "cell_type": "code",
   "execution_count": 4,
   "metadata": {
    "collapsed": true
   },
   "outputs": [],
   "source": [
    "TaggingQuality = collections.namedtuple('TaggingQuality', ['acc', 'f1'])"
   ]
  },
  {
   "cell_type": "code",
   "execution_count": 33,
   "metadata": {
    "collapsed": true
   },
   "outputs": [],
   "source": [
    "class supervised_training:\n",
    "    \n",
    "    def __init__(self, model, inp_voc, out_voc, none_idx):\n",
    "        self.inp_voc = inp_voc\n",
    "        self.out_voc = out_voc\n",
    "        self.model = model\n",
    "        self.none_idx = none_idx\n",
    "        self.class_weights = np.ones(len(out_voc)) * 15.0\n",
    "        self.class_weights[self.none_idx] = 1.0\n",
    "        self.class_weights[out_voc.bos_idx] = 1.0\n",
    "        self.class_weights /= self.class_weights.sum()\n",
    "        self.input_matrix = tf.placeholder('int32',[None,None])\n",
    "        self.input_sequence = tf.placeholder('float32', [None, None, inp_voc.w2v_dim])\n",
    "        self.reference_answers = tf.placeholder('int32',[None,None])\n",
    "        self.multiplicative_constant = tf.placeholder('float32', [None, None])\n",
    "\n",
    "        self.logprobs_seq = self.model.symbolic_score(inp_matrix=self.input_matrix, \n",
    "                                                      inp=self.input_sequence, \n",
    "                                                      out=self.reference_answers)\n",
    "    \n",
    "        self.crossentropy = - select_values_over_last_axis(self.logprobs_seq,\n",
    "                                                           self.reference_answers)\n",
    "    \n",
    "        self.mask = infer_mask(self.reference_answers, out_voc.eos_idx)\n",
    "    \n",
    "        self.loss = tf.reduce_sum(self.crossentropy*self.mask*self.multiplicative_constant)\n",
    "        \n",
    "        self.greedy_translations, self.logp = self.model.symbolic_translate(self.input_sequence, self.input_matrix, \n",
    "                                                                            greedy=True)\n",
    "    \n",
    "        self.train_step = tf.train.AdamOptimizer().minimize(self.loss)\n",
    "        initialize_uninitialized(s)\n",
    "        \n",
    "    def translate(self, lines):\n",
    "        \"\"\"\n",
    "        You are given a list of input lines. \n",
    "        Make your neural network translate them.\n",
    "        :return: a list of output lines\n",
    "        \"\"\"\n",
    "        # Convert lines to a matrix of indices\n",
    "        lines_ix, w2v_lines = self.inp_voc.to_matrix(lines)\n",
    "\n",
    "        # Compute translations in form of indices\n",
    "        trans_ix = s.run(self.greedy_translations, {self.input_sequence: w2v_lines, self.input_matrix: lines_ix})\n",
    "\n",
    "        # Convert translations back into strings\n",
    "        return self.out_voc.to_lines(trans_ix)\n",
    "    \n",
    "    \n",
    "    def sample_batch(self, sentences, labels, batch_size, random=True):\n",
    "        \"\"\"\n",
    "        sample random batch of words and random correct translation for each word\n",
    "        example usage:\n",
    "        batch_x,batch_y = sample_batch(train_words, word_to_translations,10)\n",
    "        \"\"\"\n",
    "        sentences = np.array(sentences)\n",
    "        labels = np.array(labels)\n",
    "        if random:\n",
    "            random_idx = np.random.permutation(len(sentences))\n",
    "        else:\n",
    "            random_idx = np.arange(len(sentences))\n",
    "        i = 0 \n",
    "        while i*batch_size < len(sentences):\n",
    "            batch_sentences = sentences[random_idx[i*batch_size: (i + 1)*batch_size]].tolist()\n",
    "            batch_labels = labels[random_idx[i*batch_size: (i + 1)*batch_size]].tolist()\n",
    "            i += 1\n",
    "            batch_input, batch_w2v = self.inp_voc.to_matrix(batch_sentences)\n",
    "            batch_labels, _ = self.out_voc.to_matrix(batch_labels)\n",
    "            yield batch_input, batch_w2v, batch_labels.astype(np.int32)\n",
    "            \n",
    "            \n",
    "    def score(self, predictions, labels):\n",
    "        nwords = 0\n",
    "        ncorrect = 0\n",
    "        true_positive = 0\n",
    "        true_negative = 0\n",
    "        false_positive = 0\n",
    "        false_negative = 0\n",
    "        i = 0\n",
    "        for i, ref_labels in enumerate(labels):\n",
    "            for j, ref_label in enumerate(ref_labels):\n",
    "                nwords += 1\n",
    "                if len(predictions[i]) <= j:\n",
    "                    out_label = 'none'\n",
    "                else:\n",
    "                    out_label = predictions[i][j]\n",
    "                ncorrect += ref_label == out_label\n",
    "                if ref_label != 'none' and out_label != 'none':\n",
    "                    true_positive += 1\n",
    "                elif ref_label == 'none' and out_label == 'none':\n",
    "                    true_negative += 1\n",
    "                elif ref_label == 'none' and out_label != 'none':\n",
    "                    false_positive += 1\n",
    "                else:\n",
    "                    false_negative += 1\n",
    "        if true_positive == 0 and false_positive == 0:\n",
    "            precision = 0\n",
    "        else:\n",
    "            precision = true_positive/(true_positive + false_positive)\n",
    "            \n",
    "        if true_positive == 0 and false_negative == 0:\n",
    "            recall = 0\n",
    "        else:\n",
    "            recall = true_positive/(true_positive + false_negative)\n",
    "            \n",
    "        if precision == 0 and recall == 0:\n",
    "            f_measure = 0\n",
    "        else:\n",
    "            f_measure = 2.0*precision*recall/(precision + recall)\n",
    "        return TaggingQuality(acc=ncorrect / nwords, f1=f_measure)\n",
    "        \n",
    "    \n",
    "    def train_model(self, train_sentences, train_labels, validation_sentences, validation_labels, num_epoch=100):\n",
    "        loss_history = []\n",
    "        val_accuracy = []\n",
    "        val_f1 = []\n",
    "\n",
    "        for epoch in trange(num_epoch):\n",
    "            for batch_X, batch_w2v_X, batch_y in self.sample_batch(train_sentences, train_labels, 32):\n",
    "                \n",
    "                multiplicative_const = self.class_weights[batch_y]\n",
    "                \n",
    "                \n",
    "                feed_dict = {\n",
    "                    self.input_sequence: batch_w2v_X,\n",
    "                    self.input_matrix: batch_X,\n",
    "                    self.reference_answers: batch_y,\n",
    "                    self.multiplicative_constant: multiplicative_const\n",
    "                }\n",
    "\n",
    "                loss,_ = s.run([self.loss, self.train_step], feed_dict)\n",
    "                loss_history.append(loss)\n",
    "\n",
    "            \n",
    "            # make validation\n",
    "            current_scores = self.test_model(validation_sentences, validation_labels)\n",
    "            val_accuracy.append(current_scores.acc)\n",
    "            val_f1.append(current_scores.f1)\n",
    "            \n",
    "            clear_output(True)\n",
    "            plt.figure(figsize=(12,4))\n",
    "            plt.subplot(131)\n",
    "            plt.title('train loss / traning time')\n",
    "            plt.plot(loss_history)\n",
    "            plt.grid()\n",
    "            plt.subplot(132)\n",
    "            plt.title('val accuracy')\n",
    "            plt.plot(val_accuracy)\n",
    "            plt.grid()\n",
    "            plt.subplot(133)\n",
    "            plt.title('val f1')\n",
    "            plt.plot(val_f1)\n",
    "            plt.grid()\n",
    "            plt.show()\n",
    "            print(current_scores)\n",
    "\n",
    "    def test_model(self, test_words, test_ref):\n",
    "        predictions = []\n",
    "        for start_i in trange(0, len(test_words), 32):\n",
    "            batch_words = test_words[start_i:start_i+32]\n",
    "            predictions += self.translate(batch_words)\n",
    "        return self.score(predictions, test_ref)"
   ]
  },
  {
   "cell_type": "markdown",
   "metadata": {},
   "source": [
    "## Bidirectional LSTM with concat attention"
   ]
  },
  {
   "cell_type": "code",
   "execution_count": 34,
   "metadata": {},
   "outputs": [
    {
     "name": "stdout",
     "output_type": "stream",
     "text": [
      "last_decoded Tensor(\"model/dec/basic_lstm_cell/Mul_5:0\", shape=(?, 30), dtype=float32)\n",
      "<tf.Variable 'model/attention_model/w_att:0' shape=(30, 30) dtype=float32_ref>\n",
      "pr Tensor(\"scan/while/attention_model/MatMul:0\", shape=(?, 30), dtype=float32)\n",
      "last_decoded Tensor(\"model/dec/basic_lstm_cell/Mul_8:0\", shape=(?, 30), dtype=float32)\n",
      "<tf.Variable 'model/attention_model/w_att:0' shape=(30, 30) dtype=float32_ref>\n",
      "pr Tensor(\"scan_1/while/attention_model/MatMul:0\", shape=(?, 30), dtype=float32)\n"
     ]
    }
   ],
   "source": [
    "tf.reset_default_graph()\n",
    "s = tf.InteractiveSession()\n",
    "model = AttentionTranslationModel('model', inp_voc, out_voc, emb_size=len(out_voc), hid_size=2*len(out_voc), \n",
    "                                  mode='concat', rnn_type='LSTM', is_bidir=False)\n",
    "s.run(tf.global_variables_initializer())\n",
    "training = supervised_training(model=model, inp_voc=inp_voc, out_voc=out_voc, none_idx=none_idx)"
   ]
  },
  {
   "cell_type": "code",
   "execution_count": 35,
   "metadata": {
    "scrolled": true
   },
   "outputs": [
    {
     "data": {
      "image/png": "[encoded data removed]",
      "text/plain": [
       "<matplotlib.figure.Figure at 0x7fe30cae8278>"
      ]
     },
     "metadata": {},
     "output_type": "display_data"
    },
    {
     "name": "stderr",
     "output_type": "stream",
     "text": [
      "\r",
      "100%|██████████| 100/100 [43:49<00:00, 26.30s/it]"
     ]
    },
    {
     "name": "stdout",
     "output_type": "stream",
     "text": [
      "TaggingQuality(acc=0.5972858758407238, f1=0.40375877736472526)\n"
     ]
    },
    {
     "name": "stderr",
     "output_type": "stream",
     "text": [
      "\n"
     ]
    }
   ],
   "source": [
    "training.train_model(dataset['train'][0], dataset['train'][1], dataset['val'][0], dataset['val'][1])"
   ]
  },
  {
   "cell_type": "code",
   "execution_count": 28,
   "metadata": {},
   "outputs": [
    {
     "name": "stderr",
     "output_type": "stream",
     "text": [
      "100%|██████████| 16/16 [00:01<00:00,  8.15it/s]\n"
     ]
    },
    {
     "data": {
      "text/plain": [
       "TaggingQuality(acc=0.637238200220463, f1=0.4247622599291441)"
      ]
     },
     "execution_count": 28,
     "metadata": {},
     "output_type": "execute_result"
    }
   ],
   "source": [
    "training.test_model(dataset['test'][0], dataset['test'][1])"
   ]
  }
 ],
 "metadata": {
  "kernelspec": {
   "display_name": "Python 3",
   "language": "python",
   "name": "python3"
  },
  "language_info": {
   "codemirror_mode": {
    "name": "ipython",
    "version": 3
   },
   "file_extension": ".py",
   "mimetype": "text/x-python",
   "name": "python",
   "nbconvert_exporter": "python",
   "pygments_lexer": "ipython3",
   "version": "3.6.4"
  }
 },
 "nbformat": 4,
 "nbformat_minor": 2
}
